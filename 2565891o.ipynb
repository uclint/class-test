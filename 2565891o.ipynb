{
 "cells": [
  {
   "cell_type": "code",
   "execution_count": null,
   "metadata": {},
   "outputs": [],
   "source": [
    "# Question 1"
   ]
  },
  {
   "cell_type": "code",
   "execution_count": 1,
   "metadata": {},
   "outputs": [
    {
     "name": "stdout",
     "output_type": "stream",
     "text": [
      "Specimen: matA\n",
      "Max: 215.2 \n",
      "\n",
      "Specimen: matB\n",
      "Max: 75.8 \n",
      "\n",
      "Specimen: matC\n",
      "Max: 56.5 \n",
      "\n",
      "Specimen: matD\n",
      "Max: 129.4 \n",
      "\n"
     ]
    }
   ],
   "source": [
    "import numpy as np\n",
    "mat_data = {\"matA\":[194.7, 215.2, 200.5,197.3,205.3],\n",
    "         \"matB\": [65.5,73.4, 71.2, 68.5, 75.8, 66.9],\n",
    "         \"matC\":[23.4, 34.5, 45.6, 27.5, 56.5, 45.5, 47.9],\n",
    "         \"matD\": [110.4, 103.5, 129.4, 115.4, 123.2, 110.2]}\n",
    "\n",
    "for key,value in mat_data.items():\n",
    "    specimen = key\n",
    "    maximum = np.max(value)\n",
    "    print(\"Specimen: {}\".format(specimen))\n",
    "    print(\"Max: {} \\n\" .format(maximum))"
   ]
  },
  {
   "cell_type": "code",
   "execution_count": 2,
   "metadata": {},
   "outputs": [
    {
     "name": "stdout",
     "output_type": "stream",
     "text": [
      "Specimen: all_specimens\n",
      "Min: 23.4 \n",
      "\n"
     ]
    }
   ],
   "source": [
    "all_specimens = mat_data[\"matA\"] + mat_data[\"matB\"] + mat_data[\"matC\"] + mat_data[\"matD\"]\n",
    "specimen = \"all_specimens\"\n",
    "minimum = np.min(all_specimens)\n",
    "\n",
    "print(\"Specimen: {}\".format(specimen))\n",
    "print(\"Min: {} \\n\" .format(minimum))"
   ]
  },
  {
   "cell_type": "code",
   "execution_count": 3,
   "metadata": {},
   "outputs": [
    {
     "name": "stdout",
     "output_type": "stream",
     "text": [
      "please input--->55.4\n",
      "please input--->54.5\n",
      "please input--->43.4\n",
      "please input--->33.5\n",
      "please input--->67.5\n",
      "please input--->56.4\n",
      "please input--->stop\n",
      "{'matA': [194.7, 215.2, 200.5, 197.3, 205.3], 'matB': [65.5, 73.4, 71.2, 68.5, 75.8, 66.9], 'matC': [23.4, 34.5, 45.6, 27.5, 56.5, 45.5, 47.9], 'matD': [110.4, 103.5, 129.4, 115.4, 123.2, 110.2], 'matE': [55.4, 54.5, 43.4, 33.5, 67.5, 56.4]}\n"
     ]
    }
   ],
   "source": [
    "newspecimen = \"matE\"\n",
    "matE =[]\n",
    "\n",
    "while True:\n",
    "    newdata= input(\"please input--->\")\n",
    "    if newdata == \"stop\":\n",
    "        break\n",
    "    value =float(newdata)\n",
    "    matE.append(value)\n",
    "mat_data[newspecimen] = matE\n",
    "print(mat_data)"
   ]
  },
  {
   "cell_type": "code",
   "execution_count": 5,
   "metadata": {},
   "outputs": [
    {
     "data": {
      "image/png": "[encoded data removed]",
      "text/plain": [
       "<matplotlib.figure.Figure at 0x142772676a0>"
      ]
     },
     "metadata": {},
     "output_type": "display_data"
    }
   ],
   "source": [
    "import matplotlib.pyplot as ppt\n",
    "matnamelist = []\n",
    "matmeanlist = []\n",
    "\n",
    "for key,value in mat_data.items():\n",
    "    matnamelist.append(key)\n",
    "    matmeanlist.append(np.mean(value))\n",
    "\n",
    "x= list(range(len(matnamelist)))\n",
    "ppt.bar(x, matmeanlist, align = \"center\")\n",
    "ppt.xticks(x, matnamelist)\n",
    "ppt.xlabel(\"Mat name\")\n",
    "ppt.ylabel(\"Mean\")\n",
    "ppt.show()"
   ]
  },
  {
   "cell_type": "code",
   "execution_count": null,
   "metadata": {},
   "outputs": [],
   "source": [
    "#Question 2"
   ]
  },
  {
   "cell_type": "code",
   "execution_count": 7,
   "metadata": {},
   "outputs": [
    {
     "name": "stdout",
     "output_type": "stream",
     "text": [
      "Enter value for x: 3\n",
      "The square of x is 9\n",
      "Enter value of y:4\n",
      "The product of x and y is 12\n",
      "The difference is 1\n"
     ]
    }
   ],
   "source": [
    "import math\n",
    "import numpy as np\n",
    "x = int(input(\"Enter value for x: \"))\n",
    "print(\"The square of x is\", x*x)\n",
    "\n",
    "y = int(input(\"Enter value of y:\" ))\n",
    "print(\"The product of x and y is\", x*y)\n",
    "\n",
    "if x > y:\n",
    "    print(\"The difference is\", x-y)\n",
    "else:\n",
    "    print(\"The difference is\", y-x)"
   ]
  },
  {
   "cell_type": "code",
   "execution_count": 8,
   "metadata": {},
   "outputs": [
    {
     "name": "stdout",
     "output_type": "stream",
     "text": [
      "please input--> 4\n",
      "*\n",
      "**\n",
      "***\n",
      "****\n",
      "***\n",
      "**\n",
      "*\n"
     ]
    }
   ],
   "source": [
    "n = int(input(\"please input--> \"))\n",
    "for i in range(1, n+1):\n",
    "    print(\"*\" *i)\n",
    "for i in range(n-1, 0, -1):\n",
    "    print(\"*\" *i)"
   ]
  },
  {
   "cell_type": "code",
   "execution_count": null,
   "metadata": {},
   "outputs": [],
   "source": []
  },
  {
   "cell_type": "code",
   "execution_count": null,
   "metadata": {},
   "outputs": [],
   "source": [
    "# Question 3"
   ]
  },
  {
   "cell_type": "code",
   "execution_count": 10,
   "metadata": {},
   "outputs": [
    {
     "name": "stdout",
     "output_type": "stream",
     "text": [
      "{'Rob': (23000.0, 'ENGG\\n'), 'Liz': (36000.0, 'MVLS\\n'), 'Sven': (45000.0, 'ENGG\\n'), 'Fred': (11000.0, 'SOCIO\\n'), 'Anna': (10000.0, 'SOCIO\\n')}\n"
     ]
    }
   ],
   "source": [
    "filename = \"data.csv\"\n",
    "myfile = open(filename, \"r\")\n",
    "lecturerinfo = {}\n",
    "for line in myfile:\n",
    "    record = line.split(\",\")\n",
    "    name=record[0]\n",
    "    salary = float(record[1])\n",
    "    department= record[2]\n",
    "    lecturerinfo[name] = (salary, department)\n",
    "\n",
    "print(lecturerinfo)\n",
    "\n",
    "myfile.close()"
   ]
  },
  {
   "cell_type": "code",
   "execution_count": 13,
   "metadata": {},
   "outputs": [
    {
     "name": "stdout",
     "output_type": "stream",
     "text": [
      " Rob\n",
      "(23000.0, 'ENGG\\n') \n",
      "\n",
      " Liz\n",
      "(36000.0, 'MVLS\\n') \n",
      "\n",
      " Sven\n",
      "(45000.0, 'ENGG\\n') \n",
      "\n",
      " Fred\n",
      "(11000.0, 'SOCIO\\n') \n",
      "\n",
      " Anna\n",
      "(10000.0, 'SOCIO\\n') \n",
      "\n",
      "{'Rob': (23000.0, 'ENGG\\n'), 'Liz': (36000.0, 'MVLS\\n'), 'Sven': (45000.0, 'ENGG\\n'), 'Fred': (11000.0, 'SOCIO\\n'), 'Anna': (10000.0, 'SOCIO\\n')}\n"
     ]
    }
   ],
   "source": [
    "filename = \"data.csv\"\n",
    "myfile = open(filename, \"r\")\n",
    "lecturerinfo = {}\n",
    "for line in myfile:\n",
    "    record = line.split(\",\")\n",
    "    name=record[0]\n",
    "    salary = float(record[1])\n",
    "    department= record[2]\n",
    "    lecturerinfo[name] = (salary, department)\n",
    "\n",
    "for key, value in lecturerinfo.items():\n",
    "    name = key\n",
    "    salary = value\n",
    "    \n",
    "    print(\" {}\".format(name))\n",
    "    print(\"{} \\n\" .format(salary))\n",
    "print(lecturerinfo)\n",
    "\n",
    "myfile.close()"
   ]
  },
  {
   "cell_type": "code",
   "execution_count": 20,
   "metadata": {},
   "outputs": [],
   "source": []
  },
  {
   "cell_type": "code",
   "execution_count": null,
   "metadata": {},
   "outputs": [],
   "source": []
  }
 ],
 "metadata": {
  "kernelspec": {
   "display_name": "Python 3",
   "language": "python",
   "name": "python3"
  },
  "language_info": {
   "codemirror_mode": {
    "name": "ipython",
    "version": 3
   },
   "file_extension": ".py",
   "mimetype": "text/x-python",
   "name": "python",
   "nbconvert_exporter": "python",
   "pygments_lexer": "ipython3",
   "version": "3.6.4"
  }
 },
 "nbformat": 4,
 "nbformat_minor": 2
}
